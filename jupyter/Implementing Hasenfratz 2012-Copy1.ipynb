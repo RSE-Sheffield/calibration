{
 "cells": [
  {
   "cell_type": "code",
   "execution_count": 4,
   "metadata": {},
   "outputs": [],
   "source": [
    "import numpy as np\n",
    "import matplotlib.pyplot as plt\n",
    "%matplotlib inline\n",
    "from scipy.optimize import minimize\n"
   ]
  },
  {
   "cell_type": "markdown",
   "metadata": {},
   "source": [
    "C is the list (of lists) of calibration tuples $(p(t_i), \\tilde{q}(t_j), t_l)$, where $t_l$ is the joint measurement time $t_l = (t_i + t_j) / 2$. $p(t_i)$ is the measured value. $\\tilde{q}(t_j)$ is the calibration provided by another sensor.\n",
    "I've made C a list of lists, one for each sensor.\n",
    "\n",
    "We adjust $\\gamma_1(T_m)$ to minimise the least squares error between $c(\\gamma(T_m),p(t_i))$ and $\\tilde{q}(t_j)$."
   ]
  },
  {
   "cell_type": "code",
   "execution_count": null,
   "metadata": {},
   "outputs": [],
   "source": []
  },
  {
   "cell_type": "code",
   "execution_count": 5,
   "metadata": {},
   "outputs": [
    {
     "name": "stdout",
     "output_type": "stream",
     "text": [
      "-----\n",
      "[      0. 1000000. 1000000.]\n",
      "[[15, 15.0, 0, 0.0]]\n",
      "[1. 0.]\n",
      "[[15, 15.0, 0, 1000000.0]]\n",
      "[0.99557521 0.06637169]\n",
      "[]\n",
      "[0. 0.]\n",
      "========================\n",
      "-----\n",
      "[      0.  500001. 1000001.]\n",
      "[[15, 15.0, 0, 0.0], [12, 12.0, 1, 0.0]]\n",
      "[1. 0.]\n",
      "[[15, 15.0, 0, 1000000.0], [12, 12.0, 1, 500001.0]]\n",
      "[0.99971932 0.00382973]\n",
      "[]\n",
      "[0. 0.]\n",
      "========================\n",
      "-----\n",
      "[      0.   250001.5 1000002. ]\n",
      "[[15, 15.0, 0, 0.0], [12, 12.0, 1, 0.0], [10, 10.0, 2, 0.0]]\n",
      "[1. 0.]\n",
      "[[15, 15.0, 0, 1000000.0], [12, 12.0, 1, 500001.0], [10, 10.0, 2, 250001.5]]\n",
      "[9.99999747e-01 3.10289734e-06]\n",
      "[]\n",
      "[0. 0.]\n",
      "========================\n",
      "-----\n",
      "[      0.    125031.75 1000033.  ]\n",
      "[[15, 15.0, 0, 0.0], [12, 12.0, 1, 0.0], [10, 10.0, 2, 0.0]]\n",
      "[1. 0.]\n",
      "[[15, 15.0, 0, 1000000.0], [12, 12.0, 1, 500001.0], [10, 10.0, 2, 250001.5], [10, 10.444531699017215, 33, 125031.75]]\n",
      "[0.90620187 1.32498952]\n",
      "[[14, 10.444531699017215, 33, 1000033.0]]\n",
      "[0.74225097 0.05301801]\n",
      "========================\n",
      "-----\n",
      "[     0.    562533.375 562533.375]\n",
      "[[15, 15.0, 0, 0.0], [12, 12.0, 1, 0.0], [10, 10.0, 2, 0.0]]\n",
      "[1. 0.]\n",
      "[[15, 15.0, 0, 1000000.0], [12, 12.0, 1, 500001.0], [10, 10.0, 2, 250001.5], [10, 10.444531699017215, 33, 125031.75], [20, 21.536917230668692, 34, 562533.375]]\n",
      "[ 1.11797105 -0.86817172]\n",
      "[[14, 10.444531699017215, 33, 1000033.0], [24, 21.536917230668692, 34, 562533.375]]\n",
      "[ 1.10923844 -5.08480579]\n",
      "========================\n",
      "-----\n",
      "[     0.    562534.375 562534.375]\n",
      "[[15, 15.0, 0, 0.0], [12, 12.0, 1, 0.0], [10, 10.0, 2, 0.0]]\n",
      "[1. 0.]\n",
      "[[15, 15.0, 0, 1000000.0], [12, 12.0, 1, 500001.0], [10, 10.0, 2, 250001.5], [10, 10.444531699017215, 33, 125031.75], [20, 21.536917230668692, 34, 562533.375], [30, 33.571421920469064, 35, 562534.375]]\n",
      "[ 1.16691057 -1.53895582]\n",
      "[[14, 10.444531699017215, 33, 1000033.0], [24, 21.536917230668692, 34, 562533.375], [34, 33.571421920469064, 35, 562534.375]]\n",
      "[ 1.16157842 -6.02692497]\n",
      "========================\n"
     ]
    }
   ],
   "source": [
    "X = []\n",
    "Y = []\n",
    "X.append([ 0,0,1]); Y.append([15,15])\n",
    "X.append([ 1,0,1]); Y.append([12,12])\n",
    "X.append([ 2,0,1]); Y.append([10,10])\n",
    "X.append([33,1,2]); Y.append([10,14])\n",
    "X.append([34,1,2]); Y.append([20,24])\n",
    "X.append([35,1,2]); Y.append([30,34])\n",
    "X = np.array(X)\n",
    "Y = np.array(Y)\n",
    "gamma = [[1,0],[0,0],[0,0]]\n",
    "C = [[],[],[]]\n",
    "ages = np.array([0,1e6,1e6])\n",
    "lasttime = 0\n",
    "Tm = 36\n",
    "\n",
    "def w(deltat):\n",
    "    return 1/(1+deltat)\n",
    "def cal(params,pollution):\n",
    "    return params[0]*pollution+params[1]\n",
    "def geterror(cs,g):\n",
    "    s = 0\n",
    "    for c in cs:\n",
    "        s+=w(Tm-c[2])*(cal(g,c[0])-c[1])**2\n",
    "    return s\n",
    "\n",
    "for x,y in zip(X,Y):\n",
    "    timestepsize = x[0]-lasttime\n",
    "    lasttime = x[0]\n",
    "    ages += timestepsize\n",
    "    ages[0] = 0 #reference\n",
    "    t1 = ages[x[1]]\n",
    "    t2 = ages[x[2]]\n",
    "    #if (t1==0) & (t2==0): pol = y[0]\n",
    "    pol = (t1*cal(gamma[1],y[1])+t2*cal(gamma[0],y[0]))/(t1+t2)\n",
    "    tl = x[0]\n",
    "    C[x[1]].append([y[0],pol,tl,t1])\n",
    "    C[x[2]].append([y[1],pol,tl,t2])\n",
    "    #if t1==np.inf: \n",
    "    #    avgage = t2\n",
    "    #else:\n",
    "    #    if t2==np.inf: \n",
    "    #        avgage = t1\n",
    "    #    else:\n",
    "    #        avgage = (t1+t2)/2\n",
    "    \n",
    "    print(\"-----\")\n",
    "    print(ages)\n",
    "    for i,(cs,g) in enumerate(zip(C,gamma)):\n",
    "        print(cs)\n",
    "        res = minimize(lambda newg: geterror(cs,newg), g)\n",
    "        print(res.x)\n",
    "        gamma[i] = res.x\n",
    "    print(\"========================\")\n",
    "    ages[x[1]] = avgage\n",
    "    ages[x[2]] = avgage"
   ]
  },
  {
   "cell_type": "code",
   "execution_count": 6,
   "metadata": {},
   "outputs": [
    {
     "name": "stdout",
     "output_type": "stream",
     "text": [
      "[[15, 15.0, 0, 0.0], [12, 12.0, 1, 0.0], [10, 10.0, 2, 0.0]] \n",
      "\n",
      "[[15, 15.0, 0, 1000000.0], [12, 12.0, 1, 500001.0], [10, 10.0, 2, 250001.5], [10, 10.444531699017215, 33, 125031.75], [20, 21.536917230668692, 34, 562533.375], [30, 33.571421920469064, 35, 562534.375]] \n",
      "\n",
      "[[14, 10.444531699017215, 33, 1000033.0], [24, 21.536917230668692, 34, 562533.375], [34, 33.571421920469064, 35, 562534.375]] \n",
      "\n"
     ]
    }
   ],
   "source": [
    "for c in C: print(c,'\\n')"
   ]
  },
  {
   "cell_type": "code",
   "execution_count": 109,
   "metadata": {},
   "outputs": [
    {
     "data": {
      "text/plain": [
       "[array([1., 0.]), array([0., 0.]), array([0., 0.])]"
      ]
     },
     "execution_count": 109,
     "metadata": {},
     "output_type": "execute_result"
    }
   ],
   "source": [
    "gamma"
   ]
  },
  {
   "cell_type": "code",
   "execution_count": 96,
   "metadata": {},
   "outputs": [
    {
     "data": {
      "text/plain": [
       "array([-102., -102., -102.])"
      ]
     },
     "execution_count": 96,
     "metadata": {},
     "output_type": "execute_result"
    }
   ],
   "source": [
    "ages"
   ]
  },
  {
   "cell_type": "markdown",
   "metadata": {},
   "source": [
    "why is the the age of a calibration \n",
    "> \"the sum of (i) the time passed since a sensor’s most recent calibration T m and (ii) the average calibration age of the sensor’s calibration parents\"\n",
    "\n",
    "surely if one of the parents is a reference then... also this isn't very clear. What are its parents? The two sensors?"
   ]
  },
  {
   "cell_type": "code",
   "execution_count": 74,
   "metadata": {},
   "outputs": [],
   "source": [
    "\n",
    "#C = [[(10,14.0,33),(20,24,34),(30,34,35),(15,15,0)]]\n",
    "\n",
    "\n",
    "for cs,g in zip(C,gamma):\n",
    "    geterror(cs,g)"
   ]
  },
  {
   "cell_type": "code",
   "execution_count": 37,
   "metadata": {},
   "outputs": [
    {
     "data": {
      "text/plain": [
       "array([1.01091164, 3.66116439])"
      ]
     },
     "execution_count": 37,
     "metadata": {},
     "output_type": "execute_result"
    }
   ],
   "source": [
    "from scipy.optimize import minimize\n",
    "res = minimize(lambda newg: geterror(cs,newg), g)\n",
    "newg = res.x\n",
    "newg"
   ]
  },
  {
   "cell_type": "code",
   "execution_count": null,
   "metadata": {},
   "outputs": [],
   "source": [
    "\n",
    "\n",
    "\n",
    "\n",
    "\n",
    "\n",
    "\n"
   ]
  },
  {
   "cell_type": "code",
   "execution_count": null,
   "metadata": {},
   "outputs": [],
   "source": [
    "\n",
    "\n",
    "\n",
    "\n",
    "\n",
    "\n",
    "\n",
    "\n",
    "\n",
    "\n",
    "\n",
    "\n",
    "\n",
    "\n",
    "\n",
    "\n",
    "\n"
   ]
  }
 ],
 "metadata": {
  "kernelspec": {
   "display_name": "Python 3",
   "language": "python",
   "name": "python3"
  },
  "language_info": {
   "codemirror_mode": {
    "name": "ipython",
    "version": 3
   },
   "file_extension": ".py",
   "mimetype": "text/x-python",
   "name": "python",
   "nbconvert_exporter": "python",
   "pygments_lexer": "ipython3",
   "version": "3.6.9"
  }
 },
 "nbformat": 4,
 "nbformat_minor": 2
}
