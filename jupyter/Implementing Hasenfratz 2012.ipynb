{
 "cells": [
  {
   "cell_type": "code",
   "execution_count": 40,
   "metadata": {},
   "outputs": [],
   "source": [
    "import numpy as np\n",
    "import matplotlib.pyplot as plt\n",
    "%matplotlib inline\n",
    "from scipy.optimize import minimize\n"
   ]
  },
  {
   "cell_type": "markdown",
   "metadata": {},
   "source": [
    "C is the list (of lists) of calibration tuples $(p(t_i), \\tilde{q}(t_j), t_l)$, where $t_l$ is the joint measurement time $t_l = (t_i + t_j) / 2$. $p(t_i)$ is the measured value. $\\tilde{q}(t_j)$ is the calibration provided by another sensor.\n",
    "I've made C a list of lists, one for each sensor.\n",
    "\n",
    "We adjust $\\gamma_1(T_m)$ to minimise the least squares error between $c(\\gamma(T_m),p(t_i))$ and $\\tilde{q}(t_j)$."
   ]
  },
  {
   "cell_type": "code",
   "execution_count": 48,
   "metadata": {},
   "outputs": [],
   "source": [
    "X = []\n",
    "Y = []\n",
    "X.append([ 0,0,1]); Y.append([15,15])\n",
    "X.append([ 1,0,1]); Y.append([12,12])\n",
    "X.append([ 2,0,1]); Y.append([10,10])\n",
    "X.append([20,2,3]); Y.append([20,10])\n",
    "X.append([33,1,2]); Y.append([10,20])\n",
    "X.append([34,1,2]); Y.append([20,40])\n",
    "X.append([35,1,2]); Y.append([30,60])\n",
    "X.append([36,0,3]); Y.append([10,10])\n",
    "X = np.array(X)\n",
    "Y = np.array(Y)\n",
    "gamma = [[1,0],[0,0],[0,0],[0,0]]\n",
    "lasttime = 0\n",
    "Tnow = 36 #time now"
   ]
  },
  {
   "cell_type": "code",
   "execution_count": 49,
   "metadata": {},
   "outputs": [],
   "source": [
    "def getageofparents(cs,Tnow):\n",
    "    if len(cs)==0: return 10000 #lots = i.e. not been calibrated\n",
    "    cparents = np.array(cs)[:,3]\n",
    "    cparents = cparents[cparents<1000]\n",
    "    if len(cparents)==0:\n",
    "        return 10000 #lots\n",
    "    else:\n",
    "        return np.mean(cparents)+np.min(Tnow-np.array(C[x[1]])[:,2])"
   ]
  },
  {
   "cell_type": "code",
   "execution_count": 50,
   "metadata": {},
   "outputs": [],
   "source": [
    "C = [[],[],[],[]]"
   ]
  },
  {
   "cell_type": "code",
   "execution_count": 51,
   "metadata": {},
   "outputs": [
    {
     "name": "stdout",
     "output_type": "stream",
     "text": [
      "Before\n",
      "x[1]= 0 C[x[1]]= []\n",
      "x[2]= 1 C[x[2]]= []\n",
      "pollution= 15 t1= 0 gamma[x1]= [1, 0] --> 15 |\n",
      "               t2= 0 gamma[x2]= [0, 0] --> 0 |\n",
      "-----\n",
      "-----\n",
      "[array([1., 0.]), array([0.996, 0.066]), array([0., 0.]), array([0., 0.])]\n",
      "After\n",
      "x[1]= 0 C[x[1]]= [[15, 15, 0, 0]]\n",
      "x[2]= 1 C[x[2]]= [[15, 15, 0, 0]]\n",
      "========================\n",
      "Before\n",
      "x[1]= 0 C[x[1]]= [[15, 15, 0, 0]]\n",
      "x[2]= 1 C[x[2]]= [[15, 15, 0, 0]]\n",
      "pollution= 12 t1= 0 gamma[x1]= [1. 0.] --> 12.0 |\n",
      "               t2= 0 gamma[x2]= [0.996 0.066] --> 12.013274248182727 |\n",
      "-----\n",
      "-----\n",
      "[array([1., 0.]), array([0.994, 0.066]), array([0., 0.]), array([0., 0.])]\n",
      "After\n",
      "x[1]= 0 C[x[1]]= [[12, 12, 1, 0]]\n",
      "x[2]= 1 C[x[2]]= [[12, 12, 1, 0]]\n",
      "========================\n",
      "Before\n",
      "x[1]= 0 C[x[1]]= [[12, 12, 1, 0]]\n",
      "x[2]= 1 C[x[2]]= [[12, 12, 1, 0]]\n",
      "pollution= 10 t1= 0 gamma[x1]= [1. 0.] --> 10.0 |\n",
      "               t2= 0 gamma[x2]= [0.994 0.066] --> 10.011046664309275 |\n",
      "-----\n",
      "-----\n",
      "[array([1., 0.]), array([0.993, 0.066]), array([0., 0.]), array([0., 0.])]\n",
      "After\n",
      "x[1]= 0 C[x[1]]= [[10, 10, 2, 0]]\n",
      "x[2]= 1 C[x[2]]= [[10, 10, 2, 0]]\n",
      "========================\n",
      "Before\n",
      "x[1]= 2 C[x[1]]= []\n",
      "x[2]= 3 C[x[2]]= []\n",
      "pollution= 0.0 t1= 10000 gamma[x1]= [0. 0.] --> 0.0 |\n",
      "               t2= 10000 gamma[x2]= [0. 0.] --> 0.0 |\n",
      "-----\n",
      "-----\n",
      "[array([1., 0.]), array([0.993, 0.066]), array([0., 0.]), array([0., 0.])]\n",
      "After\n",
      "x[1]= 2 C[x[1]]= [[20, 0.0, 20, 10000]]\n",
      "x[2]= 3 C[x[2]]= [[10, 0.0, 20, 10000]]\n",
      "========================\n",
      "Before\n",
      "x[1]= 1 C[x[1]]= [[10, 10, 2, 0]]\n",
      "x[2]= 2 C[x[2]]= [[20, 0.0, 20, 10000]]\n",
      "pollution= 9.966115197949653 t1= 34.0 gamma[x1]= [0.993 0.066] --> 9.999999989622683 |\n",
      "               t2= 10000 gamma[x2]= [0. 0.] --> 0.0 |\n",
      "-----\n",
      "-----\n",
      "[array([1., 0.]), array([0.99 , 0.066]), array([0.402, 0.02 ]), array([0., 0.])]\n",
      "After\n",
      "x[1]= 1 C[x[1]]= [[10, 10, 2, 0], [10, 9.966115197949653, 33, 34.0]]\n",
      "x[2]= 2 C[x[2]]= [[20, 0.0, 20, 10000], [20, 9.966115197949653, 33, 34.0]]\n",
      "========================\n",
      "Before\n",
      "x[1]= 1 C[x[1]]= [[10, 10, 2, 0], [10, 9.966115197949653, 33, 34.0]]\n",
      "x[2]= 2 C[x[2]]= [[20, 0.0, 20, 10000], [20, 9.966115197949653, 33, 34.0]]\n",
      "pollution= 18.554779585971612 t1= 20.0 gamma[x1]= [0.99  0.066] --> 19.873311307851598 |\n",
      "               t2= 37.0 gamma[x2]= [0.402 0.02 ] --> 16.115495900493645 |\n",
      "-----\n",
      "-----\n",
      "[array([1., 0.]), array([0.859, 1.384]), array([ 0.524, -2.419]), array([0., 0.])]\n",
      "After\n",
      "x[1]= 1 C[x[1]]= [[10, 10, 2, 0], [10, 9.966115197949653, 33, 34.0], [20, 18.554779585971612, 34, 20.0]]\n",
      "x[2]= 2 C[x[2]]= [[20, 0.0, 20, 10000], [20, 9.966115197949653, 33, 34.0], [40, 18.554779585971612, 34, 20.0]]\n",
      "========================\n",
      "Before\n",
      "x[1]= 1 C[x[1]]= [[10, 10, 2, 0], [10, 9.966115197949653, 33, 34.0], [20, 18.554779585971612, 34, 20.0]]\n",
      "x[2]= 2 C[x[2]]= [[20, 0.0, 20, 10000], [20, 9.966115197949653, 33, 34.0], [40, 18.554779585971612, 34, 20.0]]\n",
      "pollution= 27.916204245157193 t1= 20.0 gamma[x1]= [0.859 1.384] --> 27.13996751820815 |\n",
      "               t2= 29.0 gamma[x2]= [ 0.524 -2.419] --> 29.041747499233306 |\n",
      "-----\n",
      "-----\n",
      "[array([1., 0.]), array([0.901, 0.803]), array([ 0.494, -1.605]), array([0., 0.])]\n",
      "After\n",
      "x[1]= 1 C[x[1]]= [[10, 10, 2, 0], [10, 9.966115197949653, 33, 34.0], [20, 18.554779585971612, 34, 20.0], [30, 27.916204245157193, 35, 20.0]]\n",
      "x[2]= 2 C[x[2]]= [[20, 0.0, 20, 10000], [20, 9.966115197949653, 33, 34.0], [40, 18.554779585971612, 34, 20.0], [60, 27.916204245157193, 35, 20.0]]\n",
      "========================\n",
      "Before\n",
      "x[1]= 0 C[x[1]]= [[10, 10, 2, 0]]\n",
      "x[2]= 3 C[x[2]]= [[10, 0.0, 20, 10000]]\n",
      "pollution= 10 t1= 0 gamma[x1]= [1. 0.] --> 10.0 |\n",
      "               t2= 0 gamma[x2]= [0. 0.] --> 0.0 |\n",
      "-----\n",
      "-----\n",
      "[array([1., 0.]), array([0.901, 0.803]), array([ 0.494, -1.605]), array([0.99 , 0.099])]\n",
      "After\n",
      "x[1]= 0 C[x[1]]= [[10, 10, 36, 0]]\n",
      "x[2]= 3 C[x[2]]= [[10, 10, 36, 0]]\n",
      "========================\n"
     ]
    }
   ],
   "source": [
    "\n",
    "\n",
    "def w(deltat):\n",
    "    return 1/(1+deltat)\n",
    "def cal(params,pollution):\n",
    "    return params[0]*pollution+params[1]\n",
    "def geterror(cs,g):\n",
    "    s = 0\n",
    "    for c in cs:\n",
    "        s+=w(Tnow-c[2])*(cal(g,c[0])-c[1])**2\n",
    "    return s\n",
    "\n",
    "np.set_printoptions(precision=3,suppress=True)\n",
    "for x,y in zip(X,Y):\n",
    "    #Quoting the paper:\n",
    "    #Hence, we define the age of a calibration as the sum of (i) the time passed since a\n",
    "    #sensor’s most recent calibration T m and (ii) the average calibration age of the sensor’s\n",
    "    #calibration parents\n",
    "    \n",
    "    #np.mean(np.array(C[x[1]])[:,3]) #average age of sensors calibration parents\n",
    "    #np.min(Tnow-np.array(C[x[1]])[:,2]) #time passed since most recent calibration\n",
    "    \n",
    "    print(\"Before\")\n",
    "    print(\"x[1]=\",x[1],\"C[x[1]]=\",C[x[1]])\n",
    "    print(\"x[2]=\",x[2],\"C[x[2]]=\",C[x[2]])\n",
    "    t1 = getageofparents(C[x[1]],Tnow)\n",
    "    t2 = getageofparents(C[x[2]],Tnow)\n",
    "    \n",
    "    if (x[1]==0) or (x[2]==0):\n",
    "        t1 = 0\n",
    "        t2 = 0\n",
    "        C[x[2]]=[]\n",
    "        C[x[1]]=[]\n",
    "    tl = x[0]\n",
    "    if (x[1]==0):\n",
    "        pol = y[0]\n",
    "    else:\n",
    "        if (x[2]==0):\n",
    "            pol = y[1]\n",
    "        else:\n",
    "            pol = (t1*cal(gamma[x[2]],y[1])+t2*cal(gamma[x[1]],y[0]))/(t1+t2)\n",
    "    \n",
    "    C[x[1]].append([y[0],pol,tl,min(t1,t2)])\n",
    "    C[x[2]].append([y[1],pol,tl,min(t1,t2)])\n",
    "    print(\"pollution=\",pol,\"t1=\",t1,\"gamma[x1]=\",gamma[x[1]],\"-->\",cal(gamma[x[1]],y[0]),\"|\")\n",
    "    print(\"              \",\"t2=\",t2,\"gamma[x2]=\",gamma[x[2]],\"-->\",cal(gamma[x[2]],y[1]),\"|\")\n",
    "    print(\"-----\")\n",
    "    for i,(cs,g) in enumerate(zip(C,gamma)):\n",
    "        res = minimize(lambda newg: geterror(cs,newg), g)\n",
    "        gamma[i] = res.x\n",
    "    print(\"-----\")\n",
    "    print(gamma)\n",
    "    print(\"After\")\n",
    "    print(\"x[1]=\",x[1],\"C[x[1]]=\",C[x[1]])\n",
    "    print(\"x[2]=\",x[2],\"C[x[2]]=\",C[x[2]])\n",
    "    print(\"========================\")\n",
    "    "
   ]
  },
  {
   "cell_type": "code",
   "execution_count": 52,
   "metadata": {},
   "outputs": [],
   "source": [
    "#newX = X[-1::-1,:]\n",
    "#newX[:,0]=-newX[:,0]+36\n",
    "#X=newX\n"
   ]
  },
  {
   "cell_type": "code",
   "execution_count": 53,
   "metadata": {},
   "outputs": [
    {
     "name": "stdout",
     "output_type": "stream",
     "text": [
      "[[10, 10, 36, 0]] \n",
      "\n",
      "[[10, 10, 2, 0], [10, 9.966115197949653, 33, 34.0], [20, 18.554779585971612, 34, 20.0], [30, 27.916204245157193, 35, 20.0]] \n",
      "\n",
      "[[20, 0.0, 20, 10000], [20, 9.966115197949653, 33, 34.0], [40, 18.554779585971612, 34, 20.0], [60, 27.916204245157193, 35, 20.0]] \n",
      "\n",
      "[[10, 10, 36, 0]] \n",
      "\n"
     ]
    }
   ],
   "source": [
    "for c in C: print(c,'\\n')"
   ]
  },
  {
   "cell_type": "code",
   "execution_count": 54,
   "metadata": {},
   "outputs": [
    {
     "data": {
      "text/plain": [
       "[array([1., 0.]),\n",
       " array([0.901, 0.803]),\n",
       " array([ 0.494, -1.605]),\n",
       " array([0.99 , 0.099])]"
      ]
     },
     "execution_count": 54,
     "metadata": {},
     "output_type": "execute_result"
    }
   ],
   "source": [
    "gamma"
   ]
  },
  {
   "cell_type": "markdown",
   "metadata": {},
   "source": [
    "why is the the age of a calibration \n",
    "> \"the sum of (i) the time passed since a sensor’s most recent calibration T m and (ii) the average calibration age of the sensor’s calibration parents\"\n",
    "\n",
    "surely if one of the parents is a reference then... also this isn't very clear. What are its parents? The two sensors?"
   ]
  },
  {
   "cell_type": "code",
   "execution_count": 74,
   "metadata": {},
   "outputs": [],
   "source": [
    "\n",
    "#C = [[(10,14.0,33),(20,24,34),(30,34,35),(15,15,0)]]\n",
    "\n",
    "\n",
    "for cs,g in zip(C,gamma):\n",
    "    geterror(cs,g)"
   ]
  },
  {
   "cell_type": "code",
   "execution_count": 37,
   "metadata": {},
   "outputs": [
    {
     "data": {
      "text/plain": [
       "array([1.01091164, 3.66116439])"
      ]
     },
     "execution_count": 37,
     "metadata": {},
     "output_type": "execute_result"
    }
   ],
   "source": [
    "from scipy.optimize import minimize\n",
    "res = minimize(lambda newg: geterror(cs,newg), g)\n",
    "newg = res.x\n",
    "newg"
   ]
  },
  {
   "cell_type": "code",
   "execution_count": null,
   "metadata": {},
   "outputs": [],
   "source": [
    "\n",
    "\n",
    "\n",
    "\n",
    "\n",
    "\n",
    "\n"
   ]
  },
  {
   "cell_type": "code",
   "execution_count": null,
   "metadata": {},
   "outputs": [],
   "source": [
    "\n",
    "\n",
    "\n",
    "\n",
    "\n",
    "\n",
    "\n",
    "\n",
    "\n",
    "\n",
    "\n",
    "\n",
    "\n",
    "\n",
    "\n",
    "\n",
    "\n"
   ]
  }
 ],
 "metadata": {
  "kernelspec": {
   "display_name": "Python 3",
   "language": "python",
   "name": "python3"
  },
  "language_info": {
   "codemirror_mode": {
    "name": "ipython",
    "version": 3
   },
   "file_extension": ".py",
   "mimetype": "text/x-python",
   "name": "python",
   "nbconvert_exporter": "python",
   "pygments_lexer": "ipython3",
   "version": "3.6.9"
  }
 },
 "nbformat": 4,
 "nbformat_minor": 2
}
